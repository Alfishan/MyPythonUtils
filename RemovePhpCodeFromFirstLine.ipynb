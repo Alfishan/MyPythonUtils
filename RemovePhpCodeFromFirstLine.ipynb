{
 "cells": [
  {
   "cell_type": "markdown",
   "metadata": {},
   "source": [
    "Remove <\\?.*?\\?> at 1st line of a .php file. mostly used for WP site for mass file modification."
   ]
  },
  {
   "cell_type": "markdown",
   "metadata": {},
   "source": [
    "## remove php code from begining of file"
   ]
  },
  {
   "cell_type": "code",
   "execution_count": null,
   "metadata": {
    "collapsed": true
   },
   "outputs": [],
   "source": [
    "# with open(\"wp-load.php\", \"rt\") as fin11:\n",
    "        newlines = []\n",
    "        isFirstNew=True\n",
    "        for line in fin11:\n",
    "            if isFirstNew:\n",
    "               isFirstNew=False\n",
    "               editedLine=re.sub('<\\?.*?\\?>', '', line, re.MULTILINE)\n",
    "               newlines.append(editedLine)\n",
    "            else:\n",
    "               newlines.append(line)\n",
    "        fin11.close        \n",
    "        with open(\"out/wp-load1.php\", \"wt\") as f111:\n",
    "            for line1 in newlines:\n",
    "                f111.write(line1)\n",
    "                print(line1)\n",
    "        f111.close()"
   ]
  },
  {
   "cell_type": "markdown",
   "metadata": {},
   "source": [
    "## Traverse given directory. find .php. match REGx <\\?.*?\\?>'in first line of file and remove tht line if REGx matches. save  a clean copy."
   ]
  },
  {
   "cell_type": "code",
   "execution_count": 26,
   "metadata": {},
   "outputs": [
    {
     "name": "stdout",
     "output_type": "stream",
     "text": [
      "\n",
      "Found 0 files in 2 directories.\n"
     ]
    }
   ],
   "source": [
    "import os\n",
    "import re\n",
    "\n",
    "start_path = \"/home/alfishan/Downloads/TestDel/wp\"\n",
    "dir_count = 0\n",
    "file_count = 0\n",
    "\n",
    "for (path,dirs,files) in os.walk(start_path):\n",
    "    #print('Directory: {:s}'.format(path))\n",
    "    dir_count += 1\n",
    "    #Repeat for each file in directory\n",
    "    for file in files:\n",
    "        extension = os.path.splitext(file)[1]\n",
    "        if extension=='.php':\n",
    "            fstat = os.stat(os.path.join(path,file))\n",
    "            file_count += 1\n",
    "            with open(os.path.join(path,file), \"rt\",encoding = \"ISO-8859-1\") as fin11:\n",
    "                print('File: {:s}'.format(path)+' '+file)\n",
    "                newlines = []\n",
    "                isFirstNew=True\n",
    "                for line in fin11:\n",
    "                    if isFirstNew:\n",
    "                       isFirstNew=False\n",
    "                       editedLine=re.sub('<\\?.*?\\?>', '', line, re.MULTILINE)\n",
    "                       newlines.append(editedLine)\n",
    "                    else:\n",
    "                       newlines.append(line)\n",
    "                fin11.close        \n",
    "                with open(os.path.join(path,file), \"wt\",encoding = \"ISO-8859-1\") as f111:\n",
    "                    for line1 in newlines:\n",
    "                        f111.write(line1)\n",
    "                f111.close()\n",
    "\n",
    "# Print total files and directory count\n",
    "print('\\nFound {} files in {} directories.'.format(file_count,dir_count))    "
   ]
  }
 ],
 "metadata": {
  "kernelspec": {
   "display_name": "Python 3",
   "language": "python",
   "name": "python3"
  },
  "language_info": {
   "codemirror_mode": {
    "name": "ipython",
    "version": 3
   },
   "file_extension": ".py",
   "mimetype": "text/x-python",
   "name": "python",
   "nbconvert_exporter": "python",
   "pygments_lexer": "ipython3",
   "version": "3.5.2"
  }
 },
 "nbformat": 4,
 "nbformat_minor": 2
}
